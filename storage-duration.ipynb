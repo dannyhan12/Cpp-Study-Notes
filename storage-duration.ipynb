{
 "cells": [
  {
   "cell_type": "markdown",
   "metadata": {},
   "source": [
    "Description: This page is about the [`storage duration`](https://en.cppreference.com/w/cpp/language/storage_duration) keywords in C++.\n",
    "\n",
    "The specifiers are:\n",
    "\n",
    "- auto\n",
    "- register\n",
    "- static\n",
    "- extern\n",
    "- thread_local\n",
    "\n",
    "These keywords can affect\n",
    "\n",
    "- the lifetime of a variable\n",
    "- the accessibility of a variable (linkage)\n",
    "- where the variable is stored\n",
    "\n",
    "They only apply to certain types of entities:\n",
    "\n",
    "- objects\n",
    "- functions (member and non-member functions)"
   ]
  },
  {
   "cell_type": "markdown",
   "metadata": {},
   "source": [
    "|Specifier|Lifetime|Linkage|Entity|Other notes|\n",
    "|:-- |:-- |:-- |:-- |:-- |\n",
    "|auto |automatic storage| internal | variables at block scope or function arguments | In c++11, this keyword means something else |\n",
    "| register | automatic storage | internal | variables at block scope or function arguments | Deprecated in c++17, this keyword means something else |\n",
    "| static | static or thread local storage (lifetime of program) | internal | declaration of variables or functions | For member functions, this has a different meaning |\n",
    "| extern | static or thread local storage | external | For functions or objects | This can only be used to declare a variable, not give a definition |\n",
    "| thread_local | lifetime of thread | can be combined with `static` or `extern` to modify linkage | For functions of objects | |\n"
   ]
  },
  {
   "cell_type": "code",
   "execution_count": 1,
   "metadata": {},
   "outputs": [
    {
     "data": {
      "text/plain": []
     },
     "execution_count": 1,
     "metadata": {},
     "output_type": "execute_result"
    }
   ],
   "source": [
    "{\n",
    "    static int s_myInt = 9;\n",
    "}"
   ]
  },
  {
   "cell_type": "markdown",
   "metadata": {},
   "source": [
    "# Questions\n",
    "\n",
    "1. When should you use the `static` keyword? \n",
    "2. When should you use the `extern` keyword? \n",
    "3. When should you use the `register` keyword?\n",
    "4. When should you use the `thread_local` keyword? "
   ]
  },
  {
   "cell_type": "code",
   "execution_count": null,
   "metadata": {},
   "outputs": [],
   "source": []
  }
 ],
 "metadata": {
  "kernelspec": {
   "display_name": "C++11",
   "language": "C++",
   "name": "cling-cpp11"
  },
  "language_info": {
   "codemirror_mode": "c++",
   "file_extension": ".c++",
   "mimetype": "text/x-c++src",
   "name": "c++"
  }
 },
 "nbformat": 4,
 "nbformat_minor": 2
}
